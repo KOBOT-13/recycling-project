{
  "nbformat": 4,
  "nbformat_minor": 0,
  "metadata": {
    "colab": {
      "provenance": [],
      "gpuType": "T4"
    },
    "kernelspec": {
      "name": "python3",
      "display_name": "Python 3"
    },
    "language_info": {
      "name": "python"
    },
    "accelerator": "GPU"
  },
  "cells": [
    {
      "cell_type": "code",
      "source": [
        "!apt-get install python3.7\n",
        "\n",
        "import sys\n",
        "sys.path.pop(0)\n",
        "sys.path.insert(0, \"/usr/bin/python3.7\")"
      ],
      "metadata": {
        "id": "1vY2j_g2PPEa"
      },
      "execution_count": null,
      "outputs": []
    },
    {
      "cell_type": "code",
      "execution_count": null,
      "metadata": {
        "id": "7ujslsX-X3pL"
      },
      "outputs": [],
      "source": [
        "!git clone https://github.com/ultralytics/yolov5"
      ]
    },
    {
      "cell_type": "code",
      "source": [
        "import os\n",
        "os.chdir('/content/yolov5')\n",
        "%pip install -qr requirements.txt"
      ],
      "metadata": {
        "id": "ff0i1fzrgD_-"
      },
      "execution_count": null,
      "outputs": []
    },
    {
      "cell_type": "code",
      "source": [
        "ls"
      ],
      "metadata": {
        "id": "eG5Vumadgizy"
      },
      "execution_count": null,
      "outputs": []
    },
    {
      "cell_type": "code",
      "source": [
        "!unzip \"../custom_dataset.zip\""
      ],
      "metadata": {
        "id": "pdY8IIUJY16D"
      },
      "execution_count": null,
      "outputs": []
    },
    {
      "cell_type": "code",
      "source": [
        "!wget -O /content/train.py https://example.com/path/to/train.py"
      ],
      "metadata": {
        "id": "2I-b-jFHcuAR"
      },
      "execution_count": null,
      "outputs": []
    },
    {
      "cell_type": "code",
      "source": [
        "!python train.py --data \"/content/yolov5/data.yaml\" --epochs 100"
      ],
      "metadata": {
        "id": "Xujemjvsa0rS"
      },
      "execution_count": null,
      "outputs": []
    },
    {
      "cell_type": "code",
      "source": [
        "!zip -r train_result.zip /content/yolov5/runs/train/exp"
      ],
      "metadata": {
        "id": "u0h7WME9eLsH"
      },
      "execution_count": null,
      "outputs": []
    },
    {
      "cell_type": "code",
      "source": [
        "from google.colab import drive\n",
        "drive.mount('/content/drive')"
      ],
      "metadata": {
        "id": "jWhgCqEaYgk5"
      },
      "execution_count": null,
      "outputs": []
    },
    {
      "cell_type": "code",
      "source": [
        "!cp -r /content/yolov5/runs /content/drive/MyDrive/your_desired_location"
      ],
      "metadata": {
        "id": "rYuoYz3fYoOU"
      },
      "execution_count": null,
      "outputs": []
    },
    {
      "cell_type": "code",
      "source": [
        "ls"
      ],
      "metadata": {
        "id": "f-te2VcpswRb"
      },
      "execution_count": null,
      "outputs": []
    },
    {
      "cell_type": "code",
      "source": [
        "!python val.py --data \"/content/yolov5/data.yaml\" --weights \"/content/yolov5/runs/train/exp/weights/best.pt\""
      ],
      "metadata": {
        "id": "Ci7_DTn0s100"
      },
      "execution_count": null,
      "outputs": []
    },
    {
      "cell_type": "code",
      "source": [
        "!zip -r val_result.zip /content/yolov5/runs/val"
      ],
      "metadata": {
        "id": "6nIb1NeYtG8i"
      },
      "execution_count": null,
      "outputs": []
    },
    {
      "cell_type": "code",
      "source": [
        "!python detect.py --source img.jpg"
      ],
      "metadata": {
        "id": "D3T4rbgMtTjS"
      },
      "execution_count": null,
      "outputs": []
    },
    {
      "cell_type": "code",
      "source": [
        "!python detect.py --weights \"/content/drive/MyDrive/best\" --source \"/content/IMG_2800.MOV\""
      ],
      "metadata": {
        "id": "L2prxKLhtnUl"
      },
      "execution_count": null,
      "outputs": []
    },
    {
      "cell_type": "code",
      "source": [
        "!zip -r test_result.zip /content/yolov5/runs/detect/exp"
      ],
      "metadata": {
        "id": "whWThTgYtz-G"
      },
      "execution_count": null,
      "outputs": []
    }
  ]
}